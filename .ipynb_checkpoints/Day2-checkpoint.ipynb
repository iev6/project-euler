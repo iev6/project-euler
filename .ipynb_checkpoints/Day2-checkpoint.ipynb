{
 "cells": [
  {
   "cell_type": "raw",
   "metadata": {},
   "source": [
    "'''\n",
    "Day2 : 14th April \n",
    "Problem 4\n",
    "=========\n",
    "\n",
    "Find the largest palindrome made from the product of two 3-digit numbers\n",
    "\n",
    "Logic\n",
    "-----\n",
    "1. A routine to check if a number is a palindrome\n",
    "2. Run through all possible products of 3 digit numbers\n",
    "\n",
    "\n",
    "'''"
   ]
  },
  {
   "cell_type": "code",
   "execution_count": 1,
   "metadata": {},
   "outputs": [],
   "source": [
    "def is_palindrome(num):\n",
    "    '''\n",
    "    check if a number is palindrome\n",
    "    '''\n",
    "    str_ = str(num)\n",
    "    if str_ == str_[::-1]:\n",
    "        return True\n",
    "    return False\n"
   ]
  },
  {
   "cell_type": "code",
   "execution_count": 3,
   "metadata": {},
   "outputs": [
    {
     "name": "stdout",
     "output_type": "stream",
     "text": [
      "906609\n"
     ]
    }
   ],
   "source": [
    "A1 = range(100,1000)\n",
    "A2 = range(100,1000)\n",
    "pdt = 100 * 100\n",
    "for a1 in A1:\n",
    "    for a2 in A2:\n",
    "        pdt_ = a1 * a2\n",
    "        if (pdt_>pdt) and (is_palindrome(pdt_)):\n",
    "            pdt = pdt_\n",
    "            \n",
    "print(pdt)"
   ]
  },
  {
   "cell_type": "code",
   "execution_count": 20,
   "metadata": {},
   "outputs": [
    {
     "name": "stdout",
     "output_type": "stream",
     "text": [
      "232792560\n"
     ]
    }
   ],
   "source": [
    "'''\n",
    "Problem 5\n",
    "=========\n",
    "\n",
    "What is the smallest positive number that is evenly divisible by all of the numbers from 1 to 20\n",
    "\n",
    "Logic\n",
    "-----\n",
    "\n",
    "1. LCM(1,2,3,4...20) : Find all distinct factors from 1,2...20 and multiply them together\n",
    "2. Take running product from 1,...,k -> P. if k+1 does not divide P, do P = LCM(P,k+1), until k+1 = 20\n",
    "\n",
    "'''\n",
    "import math\n",
    "n = 20\n",
    "P = 2\n",
    "k = 2\n",
    "while k < n:\n",
    "    if (P % (k+1)):\n",
    "        P = (P * (k+1)) // math.gcd(P,k+1)\n",
    "    k = k + 1\n",
    "print(P)"
   ]
  },
  {
   "cell_type": "code",
   "execution_count": 22,
   "metadata": {},
   "outputs": [
    {
     "name": "stdout",
     "output_type": "stream",
     "text": [
      "25164150.0\n"
     ]
    }
   ],
   "source": [
    "'''\n",
    "Problem 6\n",
    "=========\n",
    "\n",
    "Find the difference between the sum of the squares of the first one hundred natural numbers and the square of the sum.\n",
    "\n",
    "Logic\n",
    "-----\n",
    "\n",
    "sum of squares of first n natural numbers = n * (n+1) * (2*n+1)/6\n",
    "square of the sum is n^2 * (n+1)^2/4\n",
    "\n",
    "req = diff of both\n",
    "\n",
    "'''\n",
    "n = 100\n",
    "s1 = n * (n+1) * (2*n+1)/6\n",
    "s2 = n*n * (n+1)*(n+1)/4\n",
    "print(s2-s1)"
   ]
  },
  {
   "cell_type": "code",
   "execution_count": 23,
   "metadata": {},
   "outputs": [
    {
     "name": "stdout",
     "output_type": "stream",
     "text": [
      "104743\n"
     ]
    }
   ],
   "source": [
    "'''\n",
    "Problem 7\n",
    "=========\n",
    "\n",
    "10 001st\n",
    "\n",
    "Logic\n",
    "-----\n",
    "Build a list of prime numbers, and keep checking if new number is divisible by the numbers in the list\n",
    "\n",
    "'''\n",
    "def is_prime(num):\n",
    "    for prime in primes:\n",
    "        if num % prime == 0:\n",
    "            return False\n",
    "    primes.append(num)\n",
    "    return True\n",
    "\n",
    "primes = [2,3,5,7,11,13,17,19,23,29,31,37,41,43,47,53,59,61,67,73,79,83,89,97] #primes till 100\n",
    "count_r = 10001\n",
    "count_cur = len(primes)\n",
    "ub = 101\n",
    "while count_cur < count_r :\n",
    "    if is_prime(ub):\n",
    "        count_cur += 1\n",
    "    ub+=1\n",
    "print(primes[-1])\n",
    "    \n"
   ]
  },
  {
   "cell_type": "code",
   "execution_count": 11,
   "metadata": {
    "slideshow": {
     "slide_type": "-"
    }
   },
   "outputs": [
    {
     "name": "stdout",
     "output_type": "stream",
     "text": [
      "988\n",
      "23514624000\n",
      "197\n"
     ]
    }
   ],
   "source": [
    "from functools import reduce\n",
    "'''\n",
    "Problem 8\n",
    "=========\n",
    "\n",
    "number = 73167176531330624919225119674426574742355349194934\n",
    "96983520312774506326239578318016984801869478851843\n",
    "85861560789112949495459501737958331952853208805511\n",
    "12540698747158523863050715693290963295227443043557\n",
    "66896648950445244523161731856403098711121722383113\n",
    "62229893423380308135336276614282806444486645238749\n",
    "30358907296290491560440772390713810515859307960866\n",
    "70172427121883998797908792274921901699720888093776\n",
    "65727333001053367881220235421809751254540594752243\n",
    "52584907711670556013604839586446706324415722155397\n",
    "53697817977846174064955149290862569321978468622482\n",
    "83972241375657056057490261407972968652414535100474\n",
    "82166370484403199890008895243450658541227588666881\n",
    "16427171479924442928230863465674813919123162824586\n",
    "17866458359124566529476545682848912883142607690042\n",
    "24219022671055626321111109370544217506941658960408\n",
    "07198403850962455444362981230987879927244284909188\n",
    "84580156166097919133875499200524063689912560717606\n",
    "05886116467109405077541002256983155200055935729725\n",
    "71636269561882670428252483600823257530420752963450\n",
    "\n",
    "Find the thirteen adjacent digits in the 1000-digit number that have the greatest product. What is the value of this product?\n",
    "\n",
    "Logic\n",
    "-----\n",
    "iterate a window of 13 digits and keep maximum running product \n",
    "\n",
    "'''\n",
    "\n",
    "def win_pdt(lst):\n",
    "    lst = list(lst)\n",
    "    return reduce((lambda x,y : int(x)*int(y)),lst)\n",
    "\n",
    "number = \"7316717653133062491922511967442657474235534919493496983520312774506326239578318016984801869478851843858615607891129494954595017379583319528532088055111254069874715852386305071569329096329522744304355766896648950445244523161731856403098711121722383113622298934233803081353362766142828064444866452387493035890729629049156044077239071381051585930796086670172427121883998797908792274921901699720888093776657273330010533678812202354218097512545405947522435258490771167055601360483958644670632441572215539753697817977846174064955149290862569321978468622482839722413756570560574902614079729686524145351004748216637048440319989000889524345065854122758866688116427171479924442928230863465674813919123162824586178664583591245665294765456828489128831426076900422421902267105562632111110937054421750694165896040807198403850962455444362981230987879927244284909188845801561660979191338754992005240636899125607176060588611646710940507754100225698315520005593572972571636269561882670428252483600823257530420752963450\" #multiline string\n",
    "\n",
    "#number= \"123456789\"\n",
    "window = 13 #13\n",
    "index = 0\n",
    "length = len(number)\n",
    "pdt = 0\n",
    "at_index = index\n",
    "print(length-window+1)\n",
    "while (index<length-window+1):\n",
    "    temp_pdt = win_pdt(number[index:window+index])\n",
    "    if (temp_pdt > pdt):\n",
    "        pdt = temp_pdt\n",
    "        at_index = index\n",
    "    index += 1\n",
    "print(pdt)\n",
    "print(at_index)\n"
   ]
  },
  {
   "cell_type": "code",
   "execution_count": 25,
   "metadata": {},
   "outputs": [
    {
     "name": "stdout",
     "output_type": "stream",
     "text": [
      "200 375 425\n",
      "31875000\n"
     ]
    }
   ],
   "source": [
    "'''\n",
    "Problem 9\n",
    "=========\n",
    "\n",
    "There exists exactly one Pythagorean triplet for which a + b + c = 1000.\n",
    "Find the product abc.\n",
    "\n",
    "Logic\n",
    "-----\n",
    "1. for every pair a,b in [1,1000], with a<b check if a,b, 1000-a-b are part of a pythagorean triplet\n",
    "\n",
    "Since, 1000-a-b > b > a -> revised limits for a,b as \n",
    "(1) 1000 > 2*a + b\n",
    "(2) 1000 > 2*b + a\n",
    "a<333\n",
    "b<500\n",
    "c<1000\n",
    "\n",
    "'''\n",
    "a_ = 2\n",
    "b_ = 3\n",
    "for a in range(1,334):\n",
    "    for b in range(a+1,501):\n",
    "        c = 1000-a-b\n",
    "        if (a*a+b*b-c*c) == 0:\n",
    "            print(a,b,c)\n",
    "            a_,b_ = a,b\n",
    "print(a_*b_*(1000-a_-b_))"
   ]
  },
  {
   "cell_type": "code",
   "execution_count": 10,
   "metadata": {},
   "outputs": [
    {
     "name": "stdout",
     "output_type": "stream",
     "text": [
      "142913828922\n"
     ]
    }
   ],
   "source": [
    "'''\n",
    "Problem 10\n",
    "=========\n",
    "\n",
    "Find the sum of all the primes below two million.\n",
    "\n",
    "Logic\n",
    "-----\n",
    "\n",
    "sieve method\n",
    "\n",
    "'''\n",
    "import numpy \n",
    "def sieve(n):\n",
    "    flags = numpy.ones(n, dtype=bool)\n",
    "    flags[0] = flags[1] = False\n",
    "    for i in range(2, n):\n",
    "        # We could use a lower upper bound for this loop, but I don't want to bother with\n",
    "        # getting the rounding right on the sqrt handling.\n",
    "        if flags[i]:\n",
    "            flags[i*i::i] = False\n",
    "    return numpy.flatnonzero(flags)\n",
    "n = 2000000\n",
    "primes = sieve(n)\n",
    "print(np.sum(primes))"
   ]
  },
  {
   "cell_type": "code",
   "execution_count": 7,
   "metadata": {},
   "outputs": [
    {
     "name": "stdout",
     "output_type": "stream",
     "text": [
      "(20, 20)\n",
      "(20, 20)\n",
      "51267216.0\n"
     ]
    }
   ],
   "source": [
    "'''\n",
    "Problem 11\n",
    "==========\n",
    "\n",
    "What is the greatest product of four adjacent numbers in the same direction (up, down, left, right, or diagonally) in the 20×20 grid?\n",
    "\n",
    "Logic\n",
    "-----\n",
    "\n",
    "Only perform right,down & diag down for each element. max product will be captured somewhere.\n",
    "\n",
    "#add for anti-diagonal also\n",
    "\n",
    "'''\n",
    "\n",
    "import numpy as np\n",
    "\n",
    "matrix = np.loadtxt(\"p11-data.txt\")\n",
    "print(matrix.shape)\n",
    "max_pdt = np.zeros(matrix.shape)\n",
    "max_pdt_ = np.zeros(matrix.shape)\n",
    "matrix_ = np.\n",
    "m,n = matrix.shape\n",
    "print(max_pdt.shape)\n",
    "def max_pdt_pt(matrix,i,j,win=4):#row,column\n",
    "    m,n = matrix.shape\n",
    "    if (i<m-win+1) and (j<n-win+1):\n",
    "        pd1 = np.prod(matrix[i:i+win,j]) #down\n",
    "        pd2 = np.prod(matrix[i,j:j+win]) #right\n",
    "        pd3 = 1\n",
    "        for k in range(0,win):\n",
    "            pd3 *= matrix[i+k,j+k]\n",
    "        return max(pd1,pd2,pd3)\n",
    "    elif (i<m-win):\n",
    "        return np.prod(matrix[i:i+win,j]) #down\n",
    "    elif (j<n-win) :\n",
    "        return np.prod(matrix[i,j:j+win]) #right\n",
    "    else :\n",
    "        return matrix[i,j]\n",
    "    return matrix[i,j]\n",
    "for i in range(0,m):\n",
    "    for j in range(0,n):\n",
    "        max_pdt[i,j] = max_pdt_pt(matrix,i,j)\n",
    "print(np.max(np.max(max_pdt,axis = 0))\n"
   ]
  },
  {
   "cell_type": "code",
   "execution_count": 5,
   "metadata": {},
   "outputs": [
    {
     "data": {
      "text/plain": [
       "99.0"
      ]
     },
     "execution_count": 5,
     "metadata": {},
     "output_type": "execute_result"
    }
   ],
   "source": [
    "matrix[1,2]"
   ]
  },
  {
   "cell_type": "code",
   "execution_count": 12,
   "metadata": {},
   "outputs": [
    {
     "name": "stdout",
     "output_type": "stream",
     "text": [
      "76576500 576 12376\n"
     ]
    }
   ],
   "source": [
    "'''\n",
    "Problem 12\n",
    "==========\n",
    "\n",
    "What is the value of the first triangle number to have over five hundred divisors?\n",
    "\n",
    "Logic\n",
    "-----\n",
    "\n",
    "Triangle numbers are = n*(n+1)/2\n",
    "Routine to find number of factors for each number - O(n)\n",
    "\n",
    "'''\n",
    "from math import sqrt\n",
    "def n_factors(number):\n",
    "    n_factor = 0\n",
    "    sqrt_ = int(sqrt(number))\n",
    "    for i in range(1,sqrt_):\n",
    "        if number % i == 0:\n",
    "            n_factor+=2\n",
    "    if sqrt_ * sqrt_ == number:\n",
    "        n_factor-=1\n",
    "    return n_factor\n",
    "\n",
    "n_factor = 0\n",
    "k = 1\n",
    "number = 1\n",
    "while n_factor < 501:\n",
    "    number = k * (k+1)//2\n",
    "    n_factor = n_factors(number)\n",
    "    k+=1\n",
    "print(number,n_factor,k)"
   ]
  },
  {
   "cell_type": "code",
   "execution_count": 2,
   "metadata": {},
   "outputs": [
    {
     "name": "stdout",
     "output_type": "stream",
     "text": [
      "(100,)\n",
      "5.5373762303908766e+51\n"
     ]
    }
   ],
   "source": [
    "'''\n",
    "Problem 13\n",
    "==========\n",
    "\n",
    "Work out the first ten digits of the sum of the following one-hundred 50-digit numbers.\n",
    "\n",
    "Logic\n",
    "-----\n",
    "\n",
    "add them lol #pythonRulez\n",
    "\n",
    "'''\n",
    "import numpy as np\n",
    "\n",
    "str_ = \"\"\"\n",
    "37107287533902102798797998220837590246510135740250\n",
    "46376937677490009712648124896970078050417018260538\n",
    "74324986199524741059474233309513058123726617309629\n",
    "91942213363574161572522430563301811072406154908250\n",
    "23067588207539346171171980310421047513778063246676\n",
    "89261670696623633820136378418383684178734361726757\n",
    "28112879812849979408065481931592621691275889832738\n",
    "44274228917432520321923589422876796487670272189318\n",
    "47451445736001306439091167216856844588711603153276\n",
    "70386486105843025439939619828917593665686757934951\n",
    "62176457141856560629502157223196586755079324193331\n",
    "64906352462741904929101432445813822663347944758178\n",
    "92575867718337217661963751590579239728245598838407\n",
    "58203565325359399008402633568948830189458628227828\n",
    "80181199384826282014278194139940567587151170094390\n",
    "35398664372827112653829987240784473053190104293586\n",
    "86515506006295864861532075273371959191420517255829\n",
    "71693888707715466499115593487603532921714970056938\n",
    "54370070576826684624621495650076471787294438377604\n",
    "53282654108756828443191190634694037855217779295145\n",
    "36123272525000296071075082563815656710885258350721\n",
    "45876576172410976447339110607218265236877223636045\n",
    "17423706905851860660448207621209813287860733969412\n",
    "81142660418086830619328460811191061556940512689692\n",
    "51934325451728388641918047049293215058642563049483\n",
    "62467221648435076201727918039944693004732956340691\n",
    "15732444386908125794514089057706229429197107928209\n",
    "55037687525678773091862540744969844508330393682126\n",
    "18336384825330154686196124348767681297534375946515\n",
    "80386287592878490201521685554828717201219257766954\n",
    "78182833757993103614740356856449095527097864797581\n",
    "16726320100436897842553539920931837441497806860984\n",
    "48403098129077791799088218795327364475675590848030\n",
    "87086987551392711854517078544161852424320693150332\n",
    "59959406895756536782107074926966537676326235447210\n",
    "69793950679652694742597709739166693763042633987085\n",
    "41052684708299085211399427365734116182760315001271\n",
    "65378607361501080857009149939512557028198746004375\n",
    "35829035317434717326932123578154982629742552737307\n",
    "94953759765105305946966067683156574377167401875275\n",
    "88902802571733229619176668713819931811048770190271\n",
    "25267680276078003013678680992525463401061632866526\n",
    "36270218540497705585629946580636237993140746255962\n",
    "24074486908231174977792365466257246923322810917141\n",
    "91430288197103288597806669760892938638285025333403\n",
    "34413065578016127815921815005561868836468420090470\n",
    "23053081172816430487623791969842487255036638784583\n",
    "11487696932154902810424020138335124462181441773470\n",
    "63783299490636259666498587618221225225512486764533\n",
    "67720186971698544312419572409913959008952310058822\n",
    "95548255300263520781532296796249481641953868218774\n",
    "76085327132285723110424803456124867697064507995236\n",
    "37774242535411291684276865538926205024910326572967\n",
    "23701913275725675285653248258265463092207058596522\n",
    "29798860272258331913126375147341994889534765745501\n",
    "18495701454879288984856827726077713721403798879715\n",
    "38298203783031473527721580348144513491373226651381\n",
    "34829543829199918180278916522431027392251122869539\n",
    "40957953066405232632538044100059654939159879593635\n",
    "29746152185502371307642255121183693803580388584903\n",
    "41698116222072977186158236678424689157993532961922\n",
    "62467957194401269043877107275048102390895523597457\n",
    "23189706772547915061505504953922979530901129967519\n",
    "86188088225875314529584099251203829009407770775672\n",
    "11306739708304724483816533873502340845647058077308\n",
    "82959174767140363198008187129011875491310547126581\n",
    "97623331044818386269515456334926366572897563400500\n",
    "42846280183517070527831839425882145521227251250327\n",
    "55121603546981200581762165212827652751691296897789\n",
    "32238195734329339946437501907836945765883352399886\n",
    "75506164965184775180738168837861091527357929701337\n",
    "62177842752192623401942399639168044983993173312731\n",
    "32924185707147349566916674687634660915035914677504\n",
    "99518671430235219628894890102423325116913619626622\n",
    "73267460800591547471830798392868535206946944540724\n",
    "76841822524674417161514036427982273348055556214818\n",
    "97142617910342598647204516893989422179826088076852\n",
    "87783646182799346313767754307809363333018982642090\n",
    "10848802521674670883215120185883543223812876952786\n",
    "71329612474782464538636993009049310363619763878039\n",
    "62184073572399794223406235393808339651327408011116\n",
    "66627891981488087797941876876144230030984490851411\n",
    "60661826293682836764744779239180335110989069790714\n",
    "85786944089552990653640447425576083659976645795096\n",
    "66024396409905389607120198219976047599490197230297\n",
    "64913982680032973156037120041377903785566085089252\n",
    "16730939319872750275468906903707539413042652315011\n",
    "94809377245048795150954100921645863754710598436791\n",
    "78639167021187492431995700641917969777599028300699\n",
    "15368713711936614952811305876380278410754449733078\n",
    "40789923115535562561142322423255033685442488917353\n",
    "44889911501440648020369068063960672322193204149535\n",
    "41503128880339536053299340368006977710650566631954\n",
    "81234880673210146739058568557934581403627822703280\n",
    "82616570773948327592232845941706525094512325230608\n",
    "22918802058777319719839450180888072429661980811197\n",
    "77158542502016545090413245809786882778948721859617\n",
    "72107838435069186155435662884062257473692284509516\n",
    "20849603980134001723930671666823555245252804609722\n",
    "53503534226472524250874054075591789781264330331690\"\"\"\n",
    "\n",
    "num = np.fromstring(str_,sep=\"\\n\")\n",
    "print(num.shape)\n",
    "print(np.sum(num))"
   ]
  },
  {
   "cell_type": "code",
   "execution_count": null,
   "metadata": {},
   "outputs": [],
   "source": [
    "'''\n",
    "Problem 14\n",
    "==========\n",
    "\n",
    "C Seq -\n",
    "n → n/2 (n is even)\n",
    "n → 3n + 1 (n is odd)\n",
    "\n",
    "Which starting number, under one million, produces the longest chain Collatz Sequence?\n",
    "\n",
    "Logic\n",
    "-----\n",
    "\n",
    "\n",
    "'''"
   ]
  },
  {
   "cell_type": "code",
   "execution_count": 2,
   "metadata": {},
   "outputs": [
    {
     "name": "stdout",
     "output_type": "stream",
     "text": [
      "137846528820.0\n"
     ]
    }
   ],
   "source": [
    "'''\n",
    "Problem 15\n",
    "==========\n",
    "\n",
    "21x21 matrix - 20x20 grid, top left to bottom right, number of routes, only being able to move to the right and down\n",
    "\n",
    "Logic\n",
    "-----\n",
    "\n",
    "for every S(row,col) = S(row-1,col) + S(row,col-1), since only right or down movement allowed.\n",
    "\n",
    "'''\n",
    "import numpy as np\n",
    "n = 21\n",
    "S = np.zeros((n,n))\n",
    "S[0,0] = 1 #initialization of starting point\n",
    "S[:,0] = 1 #left column\n",
    "S[0,:] = 1 #top row\n",
    "# we will go fill columnwise\n",
    "for j in range(1,n):\n",
    "    for i in range(1,n):\n",
    "        S[i,j] = S[i-1,j] + S[i,j-1]\n",
    "print(S[20,20])"
   ]
  },
  {
   "cell_type": "code",
   "execution_count": 4,
   "metadata": {},
   "outputs": [
    {
     "name": "stdout",
     "output_type": "stream",
     "text": [
      "1366\n"
     ]
    }
   ],
   "source": [
    "'''\n",
    "Problem 16\n",
    "==========\n",
    "\n",
    "Sum of digits of 2^1000\n",
    "\n",
    "Logic\n",
    "-----\n",
    "\n",
    "trivial method, sadly\n",
    "can't think of a theorem\n",
    "'''\n",
    "n = 1000\n",
    "s = list(str(2**n))\n",
    "s = [int(a) for a in s]\n",
    "print(sum(s))"
   ]
  },
  {
   "cell_type": "code",
   "execution_count": null,
   "metadata": {},
   "outputs": [],
   "source": [
    "'''\n",
    "Problem 17\n",
    "==========\n",
    "\n",
    "If the numbers 1 to 5 are written out in words: one, two, three, four, five, then there are 3 + 3 + 5 + 4 + 4 = 19 letters used in total.\n",
    "\n",
    "If all the numbers from 1 to 1000 (one thousand) inclusive were written out in words, how many letters would be used?\n",
    "\n",
    "Logic\n",
    "-----\n",
    "\n",
    "Trivial\n",
    "\n",
    "'''"
   ]
  },
  {
   "cell_type": "code",
   "execution_count": 1,
   "metadata": {},
   "outputs": [
    {
     "ename": "ValueError",
     "evalue": "Wrong number of columns at line 2",
     "output_type": "error",
     "traceback": [
      "\u001b[1;31m---------------------------------------------------------------------------\u001b[0m",
      "\u001b[1;31mValueError\u001b[0m                                Traceback (most recent call last)",
      "\u001b[1;32m<ipython-input-1-05b320cfbc03>\u001b[0m in \u001b[0;36m<module>\u001b[1;34m\u001b[0m\n\u001b[0;32m     20\u001b[0m \u001b[1;32mimport\u001b[0m \u001b[0mnumpy\u001b[0m \u001b[1;32mas\u001b[0m \u001b[0mnp\u001b[0m\u001b[1;33m\u001b[0m\u001b[1;33m\u001b[0m\u001b[0m\n\u001b[0;32m     21\u001b[0m \u001b[1;33m\u001b[0m\u001b[0m\n\u001b[1;32m---> 22\u001b[1;33m \u001b[0mM\u001b[0m \u001b[1;33m=\u001b[0m \u001b[0mnp\u001b[0m\u001b[1;33m.\u001b[0m\u001b[0mloadtxt\u001b[0m\u001b[1;33m(\u001b[0m\u001b[1;34m\"p18-data.txt\"\u001b[0m\u001b[1;33m)\u001b[0m\u001b[1;33m\u001b[0m\u001b[1;33m\u001b[0m\u001b[0m\n\u001b[0m\u001b[0;32m     23\u001b[0m \u001b[0mS\u001b[0m \u001b[1;33m=\u001b[0m \u001b[0mnp\u001b[0m\u001b[1;33m.\u001b[0m\u001b[0mzeros\u001b[0m\u001b[1;33m(\u001b[0m\u001b[0mM\u001b[0m\u001b[1;33m.\u001b[0m\u001b[0mshape\u001b[0m\u001b[1;33m)\u001b[0m\u001b[1;33m\u001b[0m\u001b[1;33m\u001b[0m\u001b[0m\n\u001b[0;32m     24\u001b[0m \u001b[0mS\u001b[0m\u001b[1;33m[\u001b[0m\u001b[1;36m0\u001b[0m\u001b[1;33m,\u001b[0m\u001b[1;36m0\u001b[0m\u001b[1;33m]\u001b[0m \u001b[1;33m=\u001b[0m \u001b[0mM\u001b[0m\u001b[1;33m[\u001b[0m\u001b[1;36m0\u001b[0m\u001b[1;33m,\u001b[0m\u001b[1;36m0\u001b[0m\u001b[1;33m]\u001b[0m\u001b[1;33m\u001b[0m\u001b[1;33m\u001b[0m\u001b[0m\n",
      "\u001b[1;32mC:\\ProgramData\\Anaconda3\\lib\\site-packages\\numpy\\lib\\npyio.py\u001b[0m in \u001b[0;36mloadtxt\u001b[1;34m(fname, dtype, comments, delimiter, converters, skiprows, usecols, unpack, ndmin, encoding, max_rows)\u001b[0m\n\u001b[0;32m   1132\u001b[0m         \u001b[1;31m# converting the data\u001b[0m\u001b[1;33m\u001b[0m\u001b[1;33m\u001b[0m\u001b[1;33m\u001b[0m\u001b[0m\n\u001b[0;32m   1133\u001b[0m         \u001b[0mX\u001b[0m \u001b[1;33m=\u001b[0m \u001b[1;32mNone\u001b[0m\u001b[1;33m\u001b[0m\u001b[1;33m\u001b[0m\u001b[0m\n\u001b[1;32m-> 1134\u001b[1;33m         \u001b[1;32mfor\u001b[0m \u001b[0mx\u001b[0m \u001b[1;32min\u001b[0m \u001b[0mread_data\u001b[0m\u001b[1;33m(\u001b[0m\u001b[0m_loadtxt_chunksize\u001b[0m\u001b[1;33m)\u001b[0m\u001b[1;33m:\u001b[0m\u001b[1;33m\u001b[0m\u001b[1;33m\u001b[0m\u001b[0m\n\u001b[0m\u001b[0;32m   1135\u001b[0m             \u001b[1;32mif\u001b[0m \u001b[0mX\u001b[0m \u001b[1;32mis\u001b[0m \u001b[1;32mNone\u001b[0m\u001b[1;33m:\u001b[0m\u001b[1;33m\u001b[0m\u001b[1;33m\u001b[0m\u001b[0m\n\u001b[0;32m   1136\u001b[0m                 \u001b[0mX\u001b[0m \u001b[1;33m=\u001b[0m \u001b[0mnp\u001b[0m\u001b[1;33m.\u001b[0m\u001b[0marray\u001b[0m\u001b[1;33m(\u001b[0m\u001b[0mx\u001b[0m\u001b[1;33m,\u001b[0m \u001b[0mdtype\u001b[0m\u001b[1;33m)\u001b[0m\u001b[1;33m\u001b[0m\u001b[1;33m\u001b[0m\u001b[0m\n",
      "\u001b[1;32mC:\\ProgramData\\Anaconda3\\lib\\site-packages\\numpy\\lib\\npyio.py\u001b[0m in \u001b[0;36mread_data\u001b[1;34m(chunk_size)\u001b[0m\n\u001b[0;32m   1056\u001b[0m                 \u001b[0mline_num\u001b[0m \u001b[1;33m=\u001b[0m \u001b[0mi\u001b[0m \u001b[1;33m+\u001b[0m \u001b[0mskiprows\u001b[0m \u001b[1;33m+\u001b[0m \u001b[1;36m1\u001b[0m\u001b[1;33m\u001b[0m\u001b[1;33m\u001b[0m\u001b[0m\n\u001b[0;32m   1057\u001b[0m                 raise ValueError(\"Wrong number of columns at line %d\"\n\u001b[1;32m-> 1058\u001b[1;33m                                  % line_num)\n\u001b[0m\u001b[0;32m   1059\u001b[0m \u001b[1;33m\u001b[0m\u001b[0m\n\u001b[0;32m   1060\u001b[0m             \u001b[1;31m# Convert each value according to its column and store\u001b[0m\u001b[1;33m\u001b[0m\u001b[1;33m\u001b[0m\u001b[1;33m\u001b[0m\u001b[0m\n",
      "\u001b[1;31mValueError\u001b[0m: Wrong number of columns at line 2"
     ]
    }
   ],
   "source": [
    "'''\n",
    "Problem 18\n",
    "==========\n",
    "\n",
    "By starting at the top of the triangle below and moving to adjacent numbers on the row below, the maximum total from top to bottom\n",
    "\n",
    "\n",
    "Logic\n",
    "-----\n",
    "\n",
    "Same as prob 15, just keep storing the maximum sum till that number, ie\n",
    "\n",
    "in n (height) * m (width) triangle\n",
    "\n",
    "S[i,j] = M[i,j] + max(S[i-1,j],S[i,j-1])\n",
    "\n",
    "and then do max(S[:,m])\n",
    "\n",
    "'''\n",
    "import numpy as np\n",
    "\n",
    "M = np.loadtxt(\"p18-data.txt\")\n",
    "S = np.zeros(M.shape)\n",
    "S[0,0] = M[0,0]\n",
    "(n,m) = M.shape\n",
    "#given up"
   ]
  },
  {
   "cell_type": "code",
   "execution_count": null,
   "metadata": {},
   "outputs": [],
   "source": [
    "'''\n",
    "Problem 19\n",
    "==========\n",
    "You are given the following information, but you may prefer to do some research for yourself.\n",
    "\n",
    "1 Jan 1900 was a Monday.\n",
    "Thirty days has September,\n",
    "April, June and November.\n",
    "All the rest have thirty-one,\n",
    "Saving February alone,\n",
    "Which has twenty-eight, rain or shine.\n",
    "And on leap years, twenty-nine.\n",
    "A leap year occurs on any year evenly divisible by 4, but not on a century unless it is divisible by 400.\n",
    "How many Sundays fell on the first of the month during the twentieth century (1 Jan 1901 to 31 Dec 2000)?\n",
    "\n",
    "'''"
   ]
  },
  {
   "cell_type": "code",
   "execution_count": 1,
   "metadata": {},
   "outputs": [
    {
     "name": "stdout",
     "output_type": "stream",
     "text": [
      "648\n"
     ]
    }
   ],
   "source": [
    "'''\n",
    "Problem 20\n",
    "==========\n",
    "Find the sum of the digits in the number 100! (factorial)\n",
    "\n",
    "Logic\n",
    "-----\n",
    " ->1. Calculate directly and compute sum of digits\n",
    "   2. Calculate largest power of 10 that divides 100!, and find sum of digits in quotient\n",
    "   3. Calculate the aforesaid quotient directly, by careful multiplication\n",
    "\n",
    "'''\n",
    "import numpy as np\n",
    "number = 100\n",
    "pdt = 1\n",
    "for ele in range(1,101):\n",
    "    pdt *= ele\n",
    "print(sum([int(ele) for ele in list(str(pdt))]))\n"
   ]
  },
  {
   "cell_type": "code",
   "execution_count": 10,
   "metadata": {},
   "outputs": [
    {
     "name": "stdout",
     "output_type": "stream",
     "text": [
      "[]\n"
     ]
    }
   ],
   "source": [
    "'''\n",
    "Problem 20\n",
    "==========\n",
    "Let d(n) be defined as the sum of proper divisors of n (numbers less than n which divide evenly into n).\n",
    "If d(a) = b and d(b) = a, where a ≠ b, then a and b are an amicable pair and each of a and b are called amicable numbers.\n",
    "\n",
    "For example, the proper divisors of 220 are 1, 2, 4, 5, 10, 11, 20, 22, 44, 55 and 110; therefore d(220) = 284. The proper divisors of 284 are 1, 2, 4, 71 and 142; so d(284) = 220.\n",
    "\n",
    "Evaluate the sum of all the amicable numbers under 10000.\n",
    "\n",
    "Logic\n",
    "-----\n",
    "\n",
    "Manual evaluation\n",
    "\n",
    "'''\n",
    "def sum_of_factors(number):\n",
    "    sof = 0\n",
    "    for ele in range(1,int(number/2+1)):\n",
    "        if number%ele == 0:\n",
    "            sof+=ele\n",
    "    return sof\n",
    "\n",
    "ub = 10000\n",
    "amicable_numbers = []\n",
    "for no in range(1,ub):\n",
    "    sum1 = sum_of_factors(no)\n",
    "    sum2 = sum_of_factors(sum1)\n",
    "    if (sum2==no) and (no!=sum1):\n",
    "        amicable_numbers.append(no)\n",
    "sum(amicable_numbers)\n"
   ]
  },
  {
   "cell_type": "code",
   "execution_count": null,
   "metadata": {},
   "outputs": [],
   "source": []
  }
 ],
 "metadata": {
  "kernelspec": {
   "display_name": "Python 3",
   "language": "python",
   "name": "python3"
  },
  "language_info": {
   "codemirror_mode": {
    "name": "ipython",
    "version": 3
   },
   "file_extension": ".py",
   "mimetype": "text/x-python",
   "name": "python",
   "nbconvert_exporter": "python",
   "pygments_lexer": "ipython3",
   "version": "3.7.3"
  }
 },
 "nbformat": 4,
 "nbformat_minor": 2
}
