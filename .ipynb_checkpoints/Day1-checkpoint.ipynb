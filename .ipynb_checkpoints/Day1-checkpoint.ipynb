{
 "cells": [
  {
   "cell_type": "code",
   "execution_count": 1,
   "metadata": {},
   "outputs": [],
   "source": [
    "'''\n",
    "Project Euler\n",
    "Day 1 : 9th April, 2019\n",
    "Problems 1-5\n",
    "'''\n",
    "import numpy as np"
   ]
  },
  {
   "cell_type": "code",
   "execution_count": 8,
   "metadata": {},
   "outputs": [
    {
     "name": "stdout",
     "output_type": "stream",
     "text": [
      "233168\n"
     ]
    }
   ],
   "source": [
    "'''\n",
    "Problem #1\n",
    "----------\n",
    "\n",
    "Sum of all the multiples of 3 or 5 below 1000\n",
    "\n",
    "Logic - \n",
    "1. Sum(mul of 3) + Sum(mul of 5) - Sum(mul of 15) : constant time\n",
    "or\n",
    "2. For each number in 1-1000, check if div by 3 or 5, add to running sum : O(n)\n",
    "\n",
    "Using logic 2 for code simiplicity\n",
    "\n",
    "'''\n",
    "ub = 1000\n",
    "arr = np.arange(1,ub,1)\n",
    "mask = np.logical_or(np.logical_not(np.mod(arr,3)),np.logical_not(np.mod(arr,5)))\n",
    "sum_p1 = np.sum(np.multiply(arr,mask))\n",
    "print(sum_p1)"
   ]
  },
  {
   "cell_type": "code",
   "execution_count": 17,
   "metadata": {},
   "outputs": [
    {
     "name": "stdout",
     "output_type": "stream",
     "text": [
      "4613732\n"
     ]
    }
   ],
   "source": [
    "'''\n",
    "Problem #2\n",
    "----------\n",
    "\n",
    "By considering the terms in the Fibonacci sequence whose \n",
    "values do not exceed four million, find the sum of the even-valued terms\n",
    "\n",
    "Logic - \n",
    "1. List all Fibonacci terms till 4mil and keep running sum of even-valued terms\n",
    "\n",
    "Python - int max can be stored in single variable\n",
    "\n",
    "'''\n",
    "ub = 4e6 #4 million\n",
    "sum_p2 = 0\n",
    "fib_prev = 1\n",
    "fib_cur = 2\n",
    "while(fib_cur<=ub):\n",
    "    if fib_cur%2==0:\n",
    "        sum_p2+=fib_cur\n",
    "    (fib_cur,fib_prev) = (fib_cur + fib_prev, fib_cur)\n",
    "print(sum_p2)\n"
   ]
  },
  {
   "cell_type": "code",
   "execution_count": 21,
   "metadata": {},
   "outputs": [
    {
     "ename": "KeyboardInterrupt",
     "evalue": "",
     "output_type": "error",
     "traceback": [
      "\u001b[1;31m---------------------------------------------------------------------------\u001b[0m",
      "\u001b[1;31mKeyboardInterrupt\u001b[0m                         Traceback (most recent call last)",
      "\u001b[1;32m<ipython-input-21-e7b5ffed70ee>\u001b[0m in \u001b[0;36m<module>\u001b[1;34m\u001b[0m\n\u001b[0;32m     31\u001b[0m     \u001b[1;32mif\u001b[0m \u001b[0mnumber\u001b[0m \u001b[1;33m%\u001b[0m \u001b[0mfactor\u001b[0m \u001b[1;33m==\u001b[0m\u001b[1;36m0\u001b[0m\u001b[1;33m:\u001b[0m\u001b[1;33m\u001b[0m\u001b[1;33m\u001b[0m\u001b[0m\n\u001b[0;32m     32\u001b[0m         \u001b[0mfactors\u001b[0m\u001b[1;33m.\u001b[0m\u001b[0mappend\u001b[0m\u001b[1;33m(\u001b[0m\u001b[0mfactor\u001b[0m\u001b[1;33m)\u001b[0m\u001b[1;33m\u001b[0m\u001b[1;33m\u001b[0m\u001b[0m\n\u001b[1;32m---> 33\u001b[1;33m     \u001b[0mfactor\u001b[0m \u001b[1;33m-=\u001b[0m \u001b[1;36m1\u001b[0m\u001b[1;33m\u001b[0m\u001b[1;33m\u001b[0m\u001b[0m\n\u001b[0m\u001b[0;32m     34\u001b[0m \u001b[1;32mfor\u001b[0m \u001b[0mfactor\u001b[0m \u001b[1;32min\u001b[0m \u001b[0mfactors\u001b[0m\u001b[1;33m:\u001b[0m\u001b[1;33m\u001b[0m\u001b[1;33m\u001b[0m\u001b[0m\n\u001b[0;32m     35\u001b[0m     \u001b[1;32mif\u001b[0m \u001b[0mis_prime\u001b[0m\u001b[1;33m(\u001b[0m\u001b[0mfactor\u001b[0m\u001b[1;33m)\u001b[0m\u001b[1;33m:\u001b[0m\u001b[1;33m\u001b[0m\u001b[1;33m\u001b[0m\u001b[0m\n",
      "\u001b[1;31mKeyboardInterrupt\u001b[0m: "
     ]
    }
   ],
   "source": [
    "'''\n",
    "Problem #3\n",
    "----------\n",
    "\n",
    "Largest prime factor of the number 600851475143\n",
    "\n",
    "Logic - \n",
    "1. Assemble prime numbers till number/2, keep checking divisibility and report highest number\n",
    "2. Get all factors of the number, and keep checking if prime or not\n",
    "\n",
    "Using 2. for simplicity over speed\n",
    "\n",
    "'''\n",
    "\n",
    "def is_prime(num):\n",
    "    '''\n",
    "    Checks if number is prime returns True/False\n",
    "    '''\n",
    "    for i in range(2,num):\n",
    "        if num % i == 0:\n",
    "            return False\n",
    "    return True\n",
    "\n",
    "number = 600851475143\n",
    "ub = number + 1\n",
    "factors=[number]\n",
    "#factors stored in array in descending order\n",
    "factor = ub\n",
    "largest_prime_factor = number\n",
    "while (factor>=1):\n",
    "    if number % factor ==0:\n",
    "        factors.append(factor)\n",
    "    factor -= 1\n",
    "    \n",
    "for factor in factors:\n",
    "    if is_prime(factor):\n",
    "        largest_prime_factor = factor\n",
    "        print(factor)\n",
    "        break\n",
    "\n",
    "\n",
    "\n",
    "\n"
   ]
  },
  {
   "cell_type": "code",
   "execution_count": null,
   "metadata": {},
   "outputs": [],
   "source": []
  }
 ],
 "metadata": {
  "kernelspec": {
   "display_name": "Python 3",
   "language": "python",
   "name": "python3"
  },
  "language_info": {
   "codemirror_mode": {
    "name": "ipython",
    "version": 3
   },
   "file_extension": ".py",
   "mimetype": "text/x-python",
   "name": "python",
   "nbconvert_exporter": "python",
   "pygments_lexer": "ipython3",
   "version": "3.7.3"
  }
 },
 "nbformat": 4,
 "nbformat_minor": 2
}
