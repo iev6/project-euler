{
 "cells": [
  {
   "cell_type": "markdown",
   "metadata": {},
   "source": [
    "The Riddler - Classic\n",
    "\n",
    "Date : 25th Dec, 2019\n",
    "Link : https://fivethirtyeight.com/features/can-you-find-a-matching-pair-of-socks/\n",
    "\n",
    "I have 10 pairs of socks in a drawer. Each pair is distinct from another and consists of two matching socks. Alas, I’m negligent when it comes to folding my laundry, and so the socks are not folded into pairs. This morning, fumbling around in the dark, I pull the socks out of the drawer, randomly and one at a time, until I have a matching pair of socks among the ones I’ve removed from the drawer.\n",
    "\n",
    "On average, how many socks will I pull out of the drawer in order to get my first matching pair?\n",
    "\n",
    "(Note: This is different from asking how many socks I must pull out of the drawer to guarantee that I have a matching pair. The answer to that question, by the pigeonhole principle, is 11 socks. This question is instead asking about the average.)\n",
    "\n",
    "Extra credit: Instead of 10 pairs of socks, what if I have some large number N pairs of socks?\n",
    "\n",
    "Answer :\n",
    "1. Monte-Carlo Method - below\n",
    "2. Closed form expression  - $~ \\sqrt{\\pi N}$\n"
   ]
  },
  {
   "cell_type": "code",
   "execution_count": 1,
   "metadata": {},
   "outputs": [],
   "source": [
    "import numpy as np"
   ]
  },
  {
   "cell_type": "code",
   "execution_count": 16,
   "metadata": {},
   "outputs": [],
   "source": [
    "n = 10 #number of pairs of socks\n",
    "t = 1000 #trials\n",
    "avg_pulls = np.zeros((t,1)) #1000 trials\n",
    "socks = np.arange(1,2*n+1) #socks are integers from 1 to 2n. pairs (1,2n), (x,2n-x) and so on"
   ]
  },
  {
   "cell_type": "code",
   "execution_count": 17,
   "metadata": {},
   "outputs": [],
   "source": [
    "for t_ in range(t):\n",
    "    avg_pull = 2*n\n",
    "    set1 = set()\n",
    "    socks_ = socks.copy()\n",
    "    for cnt in range(2*n+1):\n",
    "        pull = np.random.choice(socks_,replace=False)\n",
    "        set1.add(pull)\n",
    "        if (2*n+1-pull) in set1:\n",
    "            avg_pull = cnt\n",
    "            break\n",
    "    avg_pulls[t_,0] = avg_pull"
   ]
  },
  {
   "cell_type": "code",
   "execution_count": 18,
   "metadata": {},
   "outputs": [
    {
     "name": "stdout",
     "output_type": "stream",
     "text": [
      "5.545\n"
     ]
    }
   ],
   "source": [
    "print(np.average(avg_pulls))"
   ]
  }
 ],
 "metadata": {
  "kernelspec": {
   "display_name": "Python 3",
   "language": "python",
   "name": "python3"
  },
  "language_info": {
   "codemirror_mode": {
    "name": "ipython",
    "version": 3
   },
   "file_extension": ".py",
   "mimetype": "text/x-python",
   "name": "python",
   "nbconvert_exporter": "python",
   "pygments_lexer": "ipython3",
   "version": "3.7.3"
  }
 },
 "nbformat": 4,
 "nbformat_minor": 2
}
