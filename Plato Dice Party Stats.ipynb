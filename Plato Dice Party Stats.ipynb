{
 "cells": [
  {
   "cell_type": "code",
   "execution_count": 9,
   "metadata": {},
   "outputs": [],
   "source": [
    "import numpy as np\n",
    "from sympy.stats import P, E, variance, Die, Normal"
   ]
  },
  {
   "cell_type": "markdown",
   "metadata": {},
   "source": [
    "\n",
    "Dice Party is a odds prediction game in Plato. \n",
    "You get to roll 5 dice 3 times, where you also have the option to lock one or more of them (ie, prevent them from being rolled)\n",
    "\n",
    "Objective is to maximize your score after 13 rolls, in each of the categories\n",
    "\n",
    "Here, in this notebook, we try to understand if the score given to each category is proportional to the odds or not.\n",
    "\n",
    "'''"
   ]
  },
  {
   "cell_type": "code",
   "execution_count": 10,
   "metadata": {},
   "outputs": [],
   "source": [
    "#Declaration & Defns\n",
    "A,B,C,D,E = Die('A'),Die('B'),Die('C'),Die('D'),Die('E') #5 6 sided dice"
   ]
  },
  {
   "cell_type": "code",
   "execution_count": 11,
   "metadata": {},
   "outputs": [
    {
     "data": {
      "text/plain": [
       "'\\nSection 1\\nNumerical Odds - \\n'"
      ]
     },
     "execution_count": 11,
     "metadata": {},
     "output_type": "execute_result"
    }
   ],
   "source": [
    "'''\n",
    "Section 1\n",
    "Numerical Odds -\n",
    "\n",
    "Ones : # of ones\n",
    "Twos : # of twos\n",
    "Threes : # of threes\n",
    "Fours : # of fours\n",
    "Fives : # of fives\n",
    "Sixes : # of sixes\n",
    "\n",
    "if Sum(section) > 62, add 35\n",
    "'''"
   ]
  },
  {
   "cell_type": "code",
   "execution_count": null,
   "metadata": {},
   "outputs": [],
   "source": []
  }
 ],
 "metadata": {
  "kernelspec": {
   "display_name": "Python 3",
   "language": "python",
   "name": "python3"
  },
  "language_info": {
   "codemirror_mode": {
    "name": "ipython",
    "version": 3
   },
   "file_extension": ".py",
   "mimetype": "text/x-python",
   "name": "python",
   "nbconvert_exporter": "python",
   "pygments_lexer": "ipython3",
   "version": "3.7.3"
  }
 },
 "nbformat": 4,
 "nbformat_minor": 2
}
